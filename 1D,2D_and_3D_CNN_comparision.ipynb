{
  "nbformat": 4,
  "nbformat_minor": 0,
  "metadata": {
    "colab": {
      "provenance": [],
      "gpuType": "T4"
    },
    "kernelspec": {
      "name": "python3",
      "display_name": "Python 3"
    },
    "language_info": {
      "name": "python"
    },
    "accelerator": "GPU"
  },
  "cells": [
    {
      "cell_type": "code",
      "execution_count": null,
      "metadata": {
        "colab": {
          "base_uri": "https://localhost:8080/"
        },
        "id": "ButU_vf6AaNk",
        "outputId": "10200a15-6f44-4978-9248-3d609676f2f9"
      },
      "outputs": [
        {
          "output_type": "stream",
          "name": "stdout",
          "text": [
            "Mounted at /content/drive\n"
          ]
        }
      ],
      "source": [
        "from google.colab import drive\n",
        "drive.mount('/content/drive')"
      ]
    },
    {
      "cell_type": "code",
      "source": [
        "import scipy.io\n",
        "import numpy as np\n",
        "data= scipy.io.loadmat('/content/drive/MyDrive/Data/HYS/Indian_pines_corrected.mat')['indian_pines_corrected']\n",
        "gt= scipy.io.loadmat('/content/drive/MyDrive/Data/HYS/Indian_pines_gt.mat')['indian_pines_gt']"
      ],
      "metadata": {
        "id": "UmESXCMuArzG"
      },
      "execution_count": null,
      "outputs": []
    },
    {
      "cell_type": "markdown",
      "source": [
        "# **evaluate computational complexity**"
      ],
      "metadata": {
        "id": "2BqEwkNGHull"
      }
    },
    {
      "cell_type": "code",
      "source": [
        "from sklearn.model_selection import train_test_split\n",
        "from sklearn.preprocessing import StandardScaler\n",
        "scaler = StandardScaler()\n",
        "data_normalized = scaler.fit_transform(data.reshape(-1, data.shape[2])).reshape(data.shape)\n",
        "data_flattened = data_normalized.reshape(-1, data.shape[2])\n",
        "gt_flattened = gt.ravel()\n",
        "mask = gt_flattened > 0\n",
        "data_flattened = data_flattened[mask]\n",
        "gt_flattened = gt_flattened[mask]\n",
        "X_train, X_test, y_train, y_test = train_test_split(data_flattened, gt_flattened, test_size=0.3, random_state=42)"
      ],
      "metadata": {
        "id": "PA7UO25evWDP"
      },
      "execution_count": null,
      "outputs": []
    },
    {
      "cell_type": "code",
      "source": [
        "from sklearn.model_selection import train_test_split\n",
        "from sklearn.preprocessing import StandardScaler\n",
        "scaler = StandardScaler()\n",
        "data_normalized = scaler.fit_transform(data.reshape(-1, data.shape[2])).reshape(data.shape)\n",
        "data_flattened = data_normalized.reshape(-1, data.shape[2])\n",
        "gt_flattened = gt.ravel()\n",
        "mask = gt_flattened > 0\n",
        "data_flattened = data_flattened[mask]\n",
        "gt_flattened = gt_flattened[mask]\n",
        "X_train, X_test, y_train, y_test = train_test_split(data_flattened, gt_flattened, test_size=0.3, random_state=42)"
      ],
      "metadata": {
        "id": "u9B0VnCZBDV6"
      },
      "execution_count": null,
      "outputs": []
    },
    {
      "cell_type": "code",
      "source": [
        "from tensorflow.keras.models import Sequential\n",
        "from tensorflow.keras.layers import Dense, Conv1D, Flatten, MaxPooling1D, Dropout\n",
        "from tensorflow.keras.utils import to_categorical\n",
        "\n",
        "# Convert labels to categorical\n",
        "y_train_categorical = to_categorical(y_train)\n",
        "y_test_categorical = to_categorical(y_test)\n",
        "num_classes = y_train_categorical.shape[1]\n",
        "\n",
        "# Build the 1D CNN model\n",
        "def build_1d_cnn(input_shape, num_classes):\n",
        "    model = Sequential()\n",
        "    model.add(Conv1D(filters=64, kernel_size=3, activation='relu', input_shape=input_shape))\n",
        "    model.add(MaxPooling1D(pool_size=2))\n",
        "    model.add(Flatten())\n",
        "    model.add(Dense(128, activation='relu'))\n",
        "    model.add(Dropout(0.5))\n",
        "    model.add(Dense(num_classes, activation='softmax'))\n",
        "    model.compile(optimizer='adam', loss='categorical_crossentropy', metrics=['accuracy'])\n",
        "    return model\n",
        "\n",
        "model_1d = build_1d_cnn(input_shape=(200, 1), num_classes=num_classes)\n",
        "X_train_1d = X_train.reshape(-1, 200, 1)\n",
        "X_test_1d = X_test.reshape(-1, 200, 1)\n",
        "history_1d = model_1d.fit(X_train_1d, y_train_categorical, epochs=10, batch_size=32, validation_data=(X_test_1d, y_test_categorical), verbose=1)\n"
      ],
      "metadata": {
        "colab": {
          "base_uri": "https://localhost:8080/"
        },
        "id": "imeML5mlBuFI",
        "outputId": "3225ae1d-c43a-4470-d9b5-c36d2c1331f9"
      },
      "execution_count": null,
      "outputs": [
        {
          "output_type": "stream",
          "name": "stdout",
          "text": [
            "Epoch 1/10\n",
            "225/225 [==============================] - 12s 6ms/step - loss: 1.4321 - accuracy: 0.4968 - val_loss: 1.1400 - val_accuracy: 0.5545\n",
            "Epoch 2/10\n",
            "225/225 [==============================] - 1s 5ms/step - loss: 1.0987 - accuracy: 0.6096 - val_loss: 0.9285 - val_accuracy: 0.6712\n",
            "Epoch 3/10\n",
            "225/225 [==============================] - 2s 7ms/step - loss: 0.9588 - accuracy: 0.6558 - val_loss: 0.8105 - val_accuracy: 0.7327\n",
            "Epoch 4/10\n",
            "225/225 [==============================] - 1s 6ms/step - loss: 0.8585 - accuracy: 0.6809 - val_loss: 0.8058 - val_accuracy: 0.6998\n",
            "Epoch 5/10\n",
            "225/225 [==============================] - 1s 6ms/step - loss: 0.7904 - accuracy: 0.7078 - val_loss: 0.6756 - val_accuracy: 0.7629\n",
            "Epoch 6/10\n",
            "225/225 [==============================] - 1s 6ms/step - loss: 0.7462 - accuracy: 0.7222 - val_loss: 0.6352 - val_accuracy: 0.7740\n",
            "Epoch 7/10\n",
            "225/225 [==============================] - 1s 5ms/step - loss: 0.7037 - accuracy: 0.7414 - val_loss: 0.6632 - val_accuracy: 0.7509\n",
            "Epoch 8/10\n",
            "225/225 [==============================] - 1s 5ms/step - loss: 0.6774 - accuracy: 0.7536 - val_loss: 0.6053 - val_accuracy: 0.7776\n",
            "Epoch 9/10\n",
            "225/225 [==============================] - 1s 5ms/step - loss: 0.6458 - accuracy: 0.7583 - val_loss: 0.5847 - val_accuracy: 0.7922\n",
            "Epoch 10/10\n",
            "225/225 [==============================] - 1s 5ms/step - loss: 0.6088 - accuracy: 0.7771 - val_loss: 0.5408 - val_accuracy: 0.8013\n"
          ]
        }
      ]
    },
    {
      "cell_type": "code",
      "source": [
        "def extract_patches(data, gt, window_size=9):\n",
        "    margin = window_size // 2\n",
        "    height, width = gt.shape\n",
        "    patches = []\n",
        "    labels = []\n",
        "\n",
        "    for i in range(margin, height - margin):\n",
        "        for j in range(margin, width - margin):\n",
        "            if gt[i, j] > 0:\n",
        "                patch = data[i-margin:i+margin+1, j-margin:j+margin+1]\n",
        "                patches.append(patch)\n",
        "                labels.append(gt[i, j])\n",
        "\n",
        "    return np.array(patches), np.array(labels)\n",
        "\n",
        "# Extract patches\n",
        "X_patches, y_patches = extract_patches(data_normalized, gt)\n",
        "y_patches_categorical = to_categorical(y_patches)\n",
        "X_train_2d, X_test_2d, y_train_2d, y_test_2d = train_test_split(X_patches, y_patches_categorical, test_size=0.3, random_state=42)\n"
      ],
      "metadata": {
        "id": "NK0ChdQeM-v1"
      },
      "execution_count": null,
      "outputs": []
    },
    {
      "cell_type": "code",
      "source": [
        "from tensorflow.keras.models import Sequential\n",
        "from tensorflow.keras.layers import Conv2D, MaxPooling2D, Flatten, Dense, Dropout\n",
        "from tensorflow.keras.utils import to_categorical\n",
        "from sklearn.model_selection import train_test_split\n",
        "from sklearn.preprocessing import StandardScaler\n",
        "def build_2d_cnn(input_shape, num_classes):\n",
        "    model = Sequential()\n",
        "    model.add(Conv2D(32, (3, 3), activation='relu', padding='same', input_shape=input_shape))\n",
        "    model.add(MaxPooling2D((2, 2)))\n",
        "    model.add(Conv2D(64, (3, 3), activation='relu', padding='same'))\n",
        "    # Possibly remove this pooling layer if dimensionality is still an issue\n",
        "    model.add(MaxPooling2D((2, 2)))\n",
        "    model.add(Flatten())\n",
        "    model.add(Dense(128, activation='relu'))\n",
        "    model.add(Dropout(0.5))\n",
        "    model.add(Dense(num_classes, activation='softmax'))\n",
        "    model.compile(optimizer='adam', loss='categorical_crossentropy', metrics=['accuracy'])\n",
        "    return model\n",
        "\n",
        "# Build and train the adjusted 2D CNN\n",
        "model_2d = build_2d_cnn(input_shape=(9, 9, 200), num_classes=num_classes)\n",
        "history_2d = model_2d.fit(X_train_2d, y_train_2d, epochs=10, batch_size=32, validation_data=(X_test_2d, y_test_2d), verbose=1)"
      ],
      "metadata": {
        "colab": {
          "base_uri": "https://localhost:8080/"
        },
        "id": "7W_eoEuDB816",
        "outputId": "b08e453f-bc94-4021-92d5-29c5d155fabc"
      },
      "execution_count": null,
      "outputs": [
        {
          "output_type": "stream",
          "name": "stdout",
          "text": [
            "Epoch 1/10\n",
            "216/216 [==============================] - 4s 11ms/step - loss: 1.3387 - accuracy: 0.5517 - val_loss: 0.6760 - val_accuracy: 0.7387\n",
            "Epoch 2/10\n",
            "216/216 [==============================] - 1s 6ms/step - loss: 0.6477 - accuracy: 0.7680 - val_loss: 0.3342 - val_accuracy: 0.8867\n",
            "Epoch 3/10\n",
            "216/216 [==============================] - 1s 6ms/step - loss: 0.4002 - accuracy: 0.8571 - val_loss: 0.3436 - val_accuracy: 0.8671\n",
            "Epoch 4/10\n",
            "216/216 [==============================] - 2s 8ms/step - loss: 0.2555 - accuracy: 0.9104 - val_loss: 0.2187 - val_accuracy: 0.9172\n",
            "Epoch 5/10\n",
            "216/216 [==============================] - 2s 9ms/step - loss: 0.1975 - accuracy: 0.9322 - val_loss: 0.0830 - val_accuracy: 0.9743\n",
            "Epoch 6/10\n",
            "216/216 [==============================] - 2s 8ms/step - loss: 0.1143 - accuracy: 0.9610 - val_loss: 0.1200 - val_accuracy: 0.9628\n",
            "Epoch 7/10\n",
            "216/216 [==============================] - 2s 7ms/step - loss: 0.1425 - accuracy: 0.9504 - val_loss: 0.1292 - val_accuracy: 0.9567\n",
            "Epoch 8/10\n",
            "216/216 [==============================] - 1s 6ms/step - loss: 0.1746 - accuracy: 0.9464 - val_loss: 0.0274 - val_accuracy: 0.9922\n",
            "Epoch 9/10\n",
            "216/216 [==============================] - 1s 6ms/step - loss: 0.0579 - accuracy: 0.9803 - val_loss: 0.1821 - val_accuracy: 0.9584\n",
            "Epoch 10/10\n",
            "216/216 [==============================] - 1s 6ms/step - loss: 0.0752 - accuracy: 0.9745 - val_loss: 0.0248 - val_accuracy: 0.9912\n"
          ]
        }
      ]
    },
    {
      "cell_type": "code",
      "source": [
        "from sklearn.metrics import classification_report\n",
        "import numpy as np\n",
        "\n",
        "# Evaluate the model to get the accuracy\n",
        "loss, accuracy = model_2d.evaluate(X_test_2d, y_test_2d, verbose=0)\n",
        "print(f\"Test Accuracy: {accuracy*100:.2f}%\")\n",
        "\n",
        "# Predict the classes\n",
        "predictions = model_2d.predict(X_test_2d)\n",
        "predicted_classes = np.argmax(predictions, axis=1)\n",
        "\n",
        "# Convert one-hot encoded y_test_2d back to class labels\n",
        "true_classes = np.argmax(y_test_2d, axis=1)\n",
        "\n",
        "# Calculate precision and recall\n",
        "report = classification_report(true_classes, predicted_classes)\n",
        "print(report)\n"
      ],
      "metadata": {
        "colab": {
          "base_uri": "https://localhost:8080/"
        },
        "id": "k0UIZNpcRCaT",
        "outputId": "435a349c-ed24-4dc3-c63b-e4d5dce93973"
      },
      "execution_count": null,
      "outputs": [
        {
          "output_type": "stream",
          "name": "stdout",
          "text": [
            "Test Accuracy: 99.12%\n",
            "93/93 [==============================] - 0s 3ms/step\n",
            "              precision    recall  f1-score   support\n",
            "\n",
            "           1       1.00      0.88      0.93         8\n",
            "           2       0.96      1.00      0.98       436\n",
            "           3       1.00      1.00      1.00       224\n",
            "           4       1.00      0.97      0.99        70\n",
            "           5       1.00      0.99      1.00       134\n",
            "           6       1.00      1.00      1.00       194\n",
            "           7       1.00      1.00      1.00         4\n",
            "           8       1.00      1.00      1.00       130\n",
            "           9       1.00      1.00      1.00         3\n",
            "          10       1.00      0.99      0.99       298\n",
            "          11       1.00      0.98      0.99       685\n",
            "          12       0.99      0.99      0.99       185\n",
            "          13       1.00      1.00      1.00        67\n",
            "          14       0.99      0.99      0.99       388\n",
            "          15       0.97      0.99      0.98       105\n",
            "          16       0.93      1.00      0.96        27\n",
            "\n",
            "    accuracy                           0.99      2958\n",
            "   macro avg       0.99      0.99      0.99      2958\n",
            "weighted avg       0.99      0.99      0.99      2958\n",
            "\n"
          ]
        }
      ]
    },
    {
      "cell_type": "code",
      "source": [
        "def extract_3d_patches(data, gt, window_size=9):\n",
        "    margin = window_size // 2\n",
        "    height, width = gt.shape\n",
        "    patches = []\n",
        "    labels = []\n",
        "\n",
        "    for i in range(margin, height - margin):\n",
        "        for j in range(margin, width - margin):\n",
        "            if gt[i, j] > 0:\n",
        "                patch = data[i-margin:i+margin+1, j-margin:j+margin+1, :]\n",
        "                patches.append(patch)\n",
        "                labels.append(gt[i, j])\n",
        "\n",
        "    return np.array(patches), np.array(labels)\n",
        "\n",
        "# Extract 9x9x200 patches\n",
        "X_patches_3d, y_patches_3d = extract_3d_patches(data_normalized, gt)\n",
        "y_patches_categorical_3d = to_categorical(y_patches_3d)\n",
        "X_train_3d, X_test_3d, y_train_3d, y_test_3d = train_test_split(X_patches_3d, y_patches_categorical_3d, test_size=0.3, random_state=42)\n",
        "\n",
        "# Adjusted 3D CNN model\n",
        "def build_3d_cnn(input_shape, num_classes):\n",
        "    model = Sequential()\n",
        "    model.add(Conv3D(32, kernel_size=(3, 3, 7), activation='relu', padding='same', input_shape=input_shape))\n",
        "    model.add(MaxPooling3D(pool_size=(2, 2, 2)))\n",
        "    model.add(Conv3D(64, kernel_size=(3, 3, 5), activation='relu', padding='same'))\n",
        "    # Possibly remove this pooling layer if dimensionality is still an issue\n",
        "    model.add(MaxPooling3D(pool_size=(2, 2, 2)))\n",
        "    model.add(Flatten())\n",
        "    model.add(Dense(128, activation='relu'))\n",
        "    model.add(Dropout(0.5))\n",
        "    model.add(Dense(num_classes, activation='softmax'))\n",
        "    model.compile(optimizer='adam', loss='categorical_crossentropy', metrics=['accuracy'])\n",
        "    return model\n",
        "\n",
        "# Build and train the adjusted 3D CNN\n",
        "model_3d = build_3d_cnn(input_shape=(9, 9, 200, 1), num_classes=num_classes)\n",
        "history_3d = model_3d.fit(X_train_3d, y_train_3d, epochs=50, batch_size=32, validation_data=(X_test_3d, y_test_3d), verbose=1)\n"
      ],
      "metadata": {
        "colab": {
          "base_uri": "https://localhost:8080/"
        },
        "id": "xIjOyw9ICHft",
        "outputId": "e0cc7232-2c5a-4d2a-a3b0-2b89c47c2b75"
      },
      "execution_count": null,
      "outputs": [
        {
          "output_type": "stream",
          "name": "stdout",
          "text": [
            "Epoch 1/50\n",
            "216/216 [==============================] - 8s 32ms/step - loss: 1.2329 - accuracy: 0.5864 - val_loss: 0.6310 - val_accuracy: 0.7681\n",
            "Epoch 2/50\n",
            "216/216 [==============================] - 6s 28ms/step - loss: 0.6026 - accuracy: 0.7812 - val_loss: 0.3581 - val_accuracy: 0.8627\n",
            "Epoch 3/50\n",
            "216/216 [==============================] - 6s 27ms/step - loss: 0.3530 - accuracy: 0.8699 - val_loss: 0.1725 - val_accuracy: 0.9402\n",
            "Epoch 4/50\n",
            "216/216 [==============================] - 6s 30ms/step - loss: 0.2362 - accuracy: 0.9116 - val_loss: 0.1001 - val_accuracy: 0.9692\n",
            "Epoch 5/50\n",
            "216/216 [==============================] - 6s 27ms/step - loss: 0.1604 - accuracy: 0.9391 - val_loss: 0.0593 - val_accuracy: 0.9821\n",
            "Epoch 6/50\n",
            "216/216 [==============================] - 6s 28ms/step - loss: 0.1432 - accuracy: 0.9493 - val_loss: 0.0471 - val_accuracy: 0.9848\n",
            "Epoch 7/50\n",
            "216/216 [==============================] - 6s 30ms/step - loss: 0.1233 - accuracy: 0.9555 - val_loss: 0.0430 - val_accuracy: 0.9899\n",
            "Epoch 8/50\n",
            "216/216 [==============================] - 6s 28ms/step - loss: 0.0937 - accuracy: 0.9684 - val_loss: 0.0325 - val_accuracy: 0.9899\n",
            "Epoch 9/50\n",
            "216/216 [==============================] - 6s 29ms/step - loss: 0.0907 - accuracy: 0.9686 - val_loss: 0.0348 - val_accuracy: 0.9902\n",
            "Epoch 10/50\n",
            "216/216 [==============================] - 6s 29ms/step - loss: 0.0776 - accuracy: 0.9738 - val_loss: 0.0221 - val_accuracy: 0.9936\n",
            "Epoch 11/50\n",
            "216/216 [==============================] - 6s 26ms/step - loss: 0.0690 - accuracy: 0.9759 - val_loss: 0.0313 - val_accuracy: 0.9912\n",
            "Epoch 12/50\n",
            "216/216 [==============================] - 6s 27ms/step - loss: 0.0642 - accuracy: 0.9784 - val_loss: 0.0181 - val_accuracy: 0.9949\n",
            "Epoch 13/50\n",
            "216/216 [==============================] - 6s 26ms/step - loss: 0.0623 - accuracy: 0.9767 - val_loss: 0.0168 - val_accuracy: 0.9939\n",
            "Epoch 14/50\n",
            "216/216 [==============================] - 6s 28ms/step - loss: 0.0696 - accuracy: 0.9767 - val_loss: 0.0401 - val_accuracy: 0.9851\n",
            "Epoch 15/50\n",
            "216/216 [==============================] - 6s 28ms/step - loss: 0.0575 - accuracy: 0.9800 - val_loss: 0.0097 - val_accuracy: 0.9973\n",
            "Epoch 16/50\n",
            "216/216 [==============================] - 6s 28ms/step - loss: 0.0608 - accuracy: 0.9809 - val_loss: 0.0406 - val_accuracy: 0.9865\n",
            "Epoch 17/50\n",
            "216/216 [==============================] - 6s 27ms/step - loss: 0.0789 - accuracy: 0.9712 - val_loss: 0.0158 - val_accuracy: 0.9970\n",
            "Epoch 18/50\n",
            "216/216 [==============================] - 6s 27ms/step - loss: 0.0597 - accuracy: 0.9801 - val_loss: 0.0234 - val_accuracy: 0.9915\n",
            "Epoch 19/50\n",
            "216/216 [==============================] - 6s 29ms/step - loss: 0.0448 - accuracy: 0.9841 - val_loss: 0.0171 - val_accuracy: 0.9963\n",
            "Epoch 20/50\n",
            "216/216 [==============================] - 6s 30ms/step - loss: 0.0411 - accuracy: 0.9867 - val_loss: 0.0129 - val_accuracy: 0.9949\n",
            "Epoch 21/50\n",
            "216/216 [==============================] - 6s 29ms/step - loss: 0.0399 - accuracy: 0.9864 - val_loss: 0.0081 - val_accuracy: 0.9973\n",
            "Epoch 22/50\n",
            "216/216 [==============================] - 6s 29ms/step - loss: 0.0351 - accuracy: 0.9886 - val_loss: 0.0369 - val_accuracy: 0.9902\n",
            "Epoch 23/50\n",
            "216/216 [==============================] - 6s 28ms/step - loss: 0.0848 - accuracy: 0.9738 - val_loss: 0.0236 - val_accuracy: 0.9932\n",
            "Epoch 24/50\n",
            "216/216 [==============================] - 6s 28ms/step - loss: 0.0437 - accuracy: 0.9857 - val_loss: 0.0039 - val_accuracy: 0.9990\n",
            "Epoch 25/50\n",
            "216/216 [==============================] - 6s 29ms/step - loss: 0.0423 - accuracy: 0.9852 - val_loss: 0.0117 - val_accuracy: 0.9959\n",
            "Epoch 26/50\n",
            "216/216 [==============================] - 6s 27ms/step - loss: 0.0287 - accuracy: 0.9904 - val_loss: 0.0056 - val_accuracy: 0.9986\n",
            "Epoch 27/50\n",
            "216/216 [==============================] - 6s 28ms/step - loss: 0.0577 - accuracy: 0.9828 - val_loss: 0.0100 - val_accuracy: 0.9966\n",
            "Epoch 28/50\n",
            "216/216 [==============================] - 6s 28ms/step - loss: 0.0289 - accuracy: 0.9883 - val_loss: 0.0023 - val_accuracy: 0.9990\n",
            "Epoch 29/50\n",
            "216/216 [==============================] - 6s 28ms/step - loss: 0.0231 - accuracy: 0.9913 - val_loss: 0.0115 - val_accuracy: 0.9959\n",
            "Epoch 30/50\n",
            "216/216 [==============================] - 6s 27ms/step - loss: 0.0829 - accuracy: 0.9764 - val_loss: 0.0395 - val_accuracy: 0.9844\n",
            "Epoch 31/50\n",
            "216/216 [==============================] - 6s 28ms/step - loss: 0.0502 - accuracy: 0.9830 - val_loss: 0.0107 - val_accuracy: 0.9980\n",
            "Epoch 32/50\n",
            "216/216 [==============================] - 6s 28ms/step - loss: 0.0483 - accuracy: 0.9865 - val_loss: 0.0082 - val_accuracy: 0.9980\n",
            "Epoch 33/50\n",
            "216/216 [==============================] - 6s 29ms/step - loss: 0.0227 - accuracy: 0.9916 - val_loss: 0.0087 - val_accuracy: 0.9959\n",
            "Epoch 34/50\n",
            "216/216 [==============================] - 6s 27ms/step - loss: 0.0227 - accuracy: 0.9923 - val_loss: 0.0089 - val_accuracy: 0.9973\n",
            "Epoch 35/50\n",
            "216/216 [==============================] - 6s 28ms/step - loss: 0.0326 - accuracy: 0.9886 - val_loss: 0.0074 - val_accuracy: 0.9976\n",
            "Epoch 36/50\n",
            "216/216 [==============================] - 6s 28ms/step - loss: 0.0241 - accuracy: 0.9909 - val_loss: 0.0103 - val_accuracy: 0.9980\n",
            "Epoch 37/50\n",
            "216/216 [==============================] - 6s 29ms/step - loss: 0.0295 - accuracy: 0.9915 - val_loss: 0.0106 - val_accuracy: 0.9983\n",
            "Epoch 38/50\n",
            "216/216 [==============================] - 6s 28ms/step - loss: 0.0344 - accuracy: 0.9897 - val_loss: 0.0157 - val_accuracy: 0.9956\n",
            "Epoch 39/50\n",
            "216/216 [==============================] - 6s 29ms/step - loss: 0.0413 - accuracy: 0.9877 - val_loss: 0.0295 - val_accuracy: 0.9919\n",
            "Epoch 40/50\n",
            "216/216 [==============================] - 6s 28ms/step - loss: 0.0270 - accuracy: 0.9925 - val_loss: 0.0053 - val_accuracy: 0.9980\n",
            "Epoch 41/50\n",
            "216/216 [==============================] - 6s 29ms/step - loss: 0.0138 - accuracy: 0.9948 - val_loss: 0.0119 - val_accuracy: 0.9966\n",
            "Epoch 42/50\n",
            "216/216 [==============================] - 6s 27ms/step - loss: 0.0498 - accuracy: 0.9855 - val_loss: 0.0090 - val_accuracy: 0.9980\n",
            "Epoch 43/50\n",
            "216/216 [==============================] - 6s 28ms/step - loss: 0.0314 - accuracy: 0.9891 - val_loss: 0.0059 - val_accuracy: 0.9990\n",
            "Epoch 44/50\n",
            "216/216 [==============================] - 6s 28ms/step - loss: 0.0239 - accuracy: 0.9907 - val_loss: 0.0049 - val_accuracy: 0.9983\n",
            "Epoch 45/50\n",
            "216/216 [==============================] - 6s 28ms/step - loss: 0.0303 - accuracy: 0.9912 - val_loss: 0.0079 - val_accuracy: 0.9973\n",
            "Epoch 46/50\n",
            "216/216 [==============================] - 6s 27ms/step - loss: 0.0417 - accuracy: 0.9886 - val_loss: 0.0040 - val_accuracy: 0.9990\n",
            "Epoch 47/50\n",
            "216/216 [==============================] - 6s 27ms/step - loss: 0.0475 - accuracy: 0.9872 - val_loss: 0.0086 - val_accuracy: 0.9976\n",
            "Epoch 48/50\n",
            "216/216 [==============================] - 6s 28ms/step - loss: 0.0389 - accuracy: 0.9883 - val_loss: 0.0122 - val_accuracy: 0.9966\n",
            "Epoch 49/50\n",
            "216/216 [==============================] - 6s 29ms/step - loss: 0.0282 - accuracy: 0.9903 - val_loss: 0.0043 - val_accuracy: 0.9986\n",
            "Epoch 50/50\n",
            "216/216 [==============================] - 6s 29ms/step - loss: 0.0204 - accuracy: 0.9929 - val_loss: 0.0085 - val_accuracy: 0.9976\n"
          ]
        }
      ]
    },
    {
      "cell_type": "code",
      "source": [
        "from sklearn.metrics import classification_report\n",
        "import numpy as np\n",
        "\n",
        "# Predict the classes using the 3D CNN model\n",
        "predictions_3d = model_3d.predict(X_test_3d)\n",
        "predicted_classes_3d = np.argmax(predictions_3d, axis=1)\n",
        "\n",
        "# Convert one-hot encoded y_test_3d back to class labels\n",
        "true_classes_3d = np.argmax(y_test_3d, axis=1)\n",
        "\n",
        "# Calculate accuracy\n",
        "accuracy_3d = np.mean(predicted_classes_3d == true_classes_3d)\n",
        "print(f\"Test Accuracy: {accuracy_3d*100:.2f}%\")\n",
        "\n",
        "# Calculate precision and recall\n",
        "report_3d = classification_report(true_classes_3d, predicted_classes_3d)\n",
        "print(report_3d)\n"
      ],
      "metadata": {
        "colab": {
          "base_uri": "https://localhost:8080/"
        },
        "id": "J-wvYUYloTsH",
        "outputId": "ac7989cb-c02a-4130-ec2a-e16374c9388a"
      },
      "execution_count": null,
      "outputs": [
        {
          "output_type": "stream",
          "name": "stdout",
          "text": [
            "93/93 [==============================] - 1s 10ms/step\n",
            "Test Accuracy: 99.76%\n",
            "              precision    recall  f1-score   support\n",
            "\n",
            "           1       1.00      0.88      0.93         8\n",
            "           2       1.00      0.99      0.99       436\n",
            "           3       1.00      1.00      1.00       224\n",
            "           4       1.00      1.00      1.00        70\n",
            "           5       1.00      1.00      1.00       134\n",
            "           6       1.00      1.00      1.00       194\n",
            "           7       1.00      1.00      1.00         4\n",
            "           8       1.00      1.00      1.00       130\n",
            "           9       1.00      1.00      1.00         3\n",
            "          10       1.00      1.00      1.00       298\n",
            "          11       0.99      1.00      1.00       685\n",
            "          12       1.00      1.00      1.00       185\n",
            "          13       1.00      1.00      1.00        67\n",
            "          14       1.00      1.00      1.00       388\n",
            "          15       1.00      1.00      1.00       105\n",
            "          16       1.00      1.00      1.00        27\n",
            "\n",
            "    accuracy                           1.00      2958\n",
            "   macro avg       1.00      0.99      0.99      2958\n",
            "weighted avg       1.00      1.00      1.00      2958\n",
            "\n"
          ]
        }
      ]
    }
  ]
}